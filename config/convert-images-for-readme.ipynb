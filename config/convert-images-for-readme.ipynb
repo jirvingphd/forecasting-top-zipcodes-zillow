{
 "cells": [
  {
   "cell_type": "code",
   "execution_count": 1,
   "metadata": {},
   "outputs": [],
   "source": [
    "from PIL import Image\n",
    "\n",
    "# Load the .webp image\n",
    "image_path = '../images/DALL·E 2024-07-19 12.10.21.webp'\n",
    "image = Image.open(image_path)\n",
    "\n",
    "# Save the image as .png\n",
    "output_path = '../images/DALL·E 2024-07-19 12.10.21.png'\n",
    "image.save(output_path, 'PNG')"
   ]
  },
  {
   "cell_type": "code",
   "execution_count": null,
   "metadata": {},
   "outputs": [],
   "source": []
  }
 ],
 "metadata": {
  "kernelspec": {
   "display_name": "ts-env",
   "language": "python",
   "name": "python3"
  },
  "language_info": {
   "codemirror_mode": {
    "name": "ipython",
    "version": 3
   },
   "file_extension": ".py",
   "mimetype": "text/x-python",
   "name": "python",
   "nbconvert_exporter": "python",
   "pygments_lexer": "ipython3",
   "version": "3.10.14"
  }
 },
 "nbformat": 4,
 "nbformat_minor": 2
}
